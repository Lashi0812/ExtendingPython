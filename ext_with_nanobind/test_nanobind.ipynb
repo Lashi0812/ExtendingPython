{
 "cells": [
  {
   "cell_type": "code",
   "execution_count": 1,
   "metadata": {},
   "outputs": [],
   "source": [
    "import sys\n",
    "sys.path.append(\"/workspaces/ExtendingPython/build/ext_with_nanobind/\")"
   ]
  },
  {
   "cell_type": "code",
   "execution_count": 2,
   "metadata": {},
   "outputs": [],
   "source": [
    "import ext_nano"
   ]
  },
  {
   "cell_type": "code",
   "execution_count": 3,
   "metadata": {},
   "outputs": [
    {
     "name": "stdout",
     "output_type": "stream",
     "text": [
      "Help on nb_func in module ext_nano:\n",
      "\n",
      "add = <nanobind.nb_func object>\n",
      "    add(a: int, b: int = 1) -> int\n",
      "\n"
     ]
    }
   ],
   "source": [
    "help(ext_nano.add)"
   ]
  },
  {
   "cell_type": "code",
   "execution_count": 4,
   "metadata": {},
   "outputs": [
    {
     "data": {
      "text/plain": [
       "35"
      ]
     },
     "execution_count": 4,
     "metadata": {},
     "output_type": "execute_result"
    }
   ],
   "source": [
    "ext_nano.add(a=12,b=23)"
   ]
  },
  {
   "cell_type": "code",
   "execution_count": 5,
   "metadata": {},
   "outputs": [
    {
     "data": {
      "text/plain": [
       "13"
      ]
     },
     "execution_count": 5,
     "metadata": {},
     "output_type": "execute_result"
    }
   ],
   "source": [
    "ext_nano.add(12,1)"
   ]
  },
  {
   "cell_type": "code",
   "execution_count": 6,
   "metadata": {},
   "outputs": [
    {
     "data": {
      "text/plain": [
       "2"
      ]
     },
     "execution_count": 6,
     "metadata": {},
     "output_type": "execute_result"
    }
   ],
   "source": [
    "ext_nano.add(1)"
   ]
  },
  {
   "cell_type": "code",
   "execution_count": 7,
   "metadata": {},
   "outputs": [
    {
     "data": {
      "text/plain": [
       "42"
      ]
     },
     "execution_count": 7,
     "metadata": {},
     "output_type": "execute_result"
    }
   ],
   "source": [
    "ext_nano.export_value"
   ]
  },
  {
   "cell_type": "code",
   "execution_count": 8,
   "metadata": {},
   "outputs": [],
   "source": [
    "import nano_class"
   ]
  },
  {
   "cell_type": "code",
   "execution_count": 9,
   "metadata": {},
   "outputs": [
    {
     "data": {
      "text/plain": [
       "<nano_class.Dog1 at 0x7f90cc1ede70>"
      ]
     },
     "execution_count": 9,
     "metadata": {},
     "output_type": "execute_result"
    }
   ],
   "source": [
    "nano_class.Dog1()"
   ]
  },
  {
   "cell_type": "code",
   "execution_count": 10,
   "metadata": {},
   "outputs": [
    {
     "name": "stdout",
     "output_type": "stream",
     "text": [
      "Help on class Dog1 in module nano_class:\n",
      "\n",
      "class Dog1(builtins.object)\n",
      " |  Methods defined here:\n",
      " |  \n",
      " |  __init__(...)\n",
      " |      __init__(self) -> None\n",
      " |      __init__(self, arg0: str, arg1: int, /) -> None\n",
      " |  \n",
      " |  bark(...)\n",
      " |      bark(self) -> str\n",
      " |  \n",
      " |  ----------------------------------------------------------------------\n",
      " |  Static methods defined here:\n",
      " |  \n",
      " |  __new__(*args, **kwargs) from nanobind.nb_type_0\n",
      " |      Create and return a new object.  See help(type) for accurate signature.\n",
      " |  \n",
      " |  ----------------------------------------------------------------------\n",
      " |  Data descriptors defined here:\n",
      " |  \n",
      " |  age\n",
      " |      (self) -> int\n",
      " |  \n",
      " |  name\n",
      " |      (self) -> str\n",
      "\n"
     ]
    }
   ],
   "source": [
    "help(nano_class.Dog1)"
   ]
  },
  {
   "cell_type": "code",
   "execution_count": 11,
   "metadata": {},
   "outputs": [
    {
     "data": {
      "text/plain": [
       "('test', 20)"
      ]
     },
     "execution_count": 11,
     "metadata": {},
     "output_type": "execute_result"
    }
   ],
   "source": [
    "dog = nano_class.Dog1(\"test\",20)\n",
    "dog.name ,dog.age"
   ]
  },
  {
   "cell_type": "code",
   "execution_count": 12,
   "metadata": {},
   "outputs": [],
   "source": [
    "dog.name = \"change\""
   ]
  },
  {
   "cell_type": "code",
   "execution_count": 13,
   "metadata": {},
   "outputs": [
    {
     "data": {
      "text/plain": [
       "'change'"
      ]
     },
     "execution_count": 13,
     "metadata": {},
     "output_type": "execute_result"
    }
   ],
   "source": [
    "dog.name"
   ]
  },
  {
   "cell_type": "code",
   "execution_count": 14,
   "metadata": {},
   "outputs": [
    {
     "name": "stdout",
     "output_type": "stream",
     "text": [
      "Help on class MyClass in module __main__:\n",
      "\n",
      "class MyClass(builtins.object)\n",
      " |  Methods defined here:\n",
      " |  \n",
      " |  __init__(self)\n",
      " |      Initialize self.  See help(type(self)) for accurate signature.\n",
      " |  \n",
      " |  ----------------------------------------------------------------------\n",
      " |  Data descriptors defined here:\n",
      " |  \n",
      " |  __dict__\n",
      " |      dictionary for instance variables (if defined)\n",
      " |  \n",
      " |  __weakref__\n",
      " |      list of weak references to the object (if defined)\n",
      " |  \n",
      " |  my_property\n",
      "\n"
     ]
    }
   ],
   "source": [
    "class MyClass:\n",
    "    def __init__(self):\n",
    "        self._my_property = 42  \n",
    "\n",
    "    @property\n",
    "    def my_property(self):\n",
    "        return self._my_property\n",
    "\n",
    "    @my_property.setter\n",
    "    def my_property(self, value):\n",
    "        self._my_property = value\n",
    "\n",
    "help(MyClass)"
   ]
  },
  {
   "cell_type": "code",
   "execution_count": 15,
   "metadata": {},
   "outputs": [
    {
     "name": "stdout",
     "output_type": "stream",
     "text": [
      "Help on MyClass in module __main__ object:\n",
      "\n",
      "class MyClass(builtins.object)\n",
      " |  Methods defined here:\n",
      " |  \n",
      " |  __init__(self)\n",
      " |      Initialize self.  See help(type(self)) for accurate signature.\n",
      " |  \n",
      " |  ----------------------------------------------------------------------\n",
      " |  Data descriptors defined here:\n",
      " |  \n",
      " |  __dict__\n",
      " |      dictionary for instance variables (if defined)\n",
      " |  \n",
      " |  __weakref__\n",
      " |      list of weak references to the object (if defined)\n",
      " |  \n",
      " |  my_property\n",
      "\n"
     ]
    }
   ],
   "source": [
    "class1_inst = MyClass()\n",
    "help(class1_inst)"
   ]
  },
  {
   "cell_type": "code",
   "execution_count": 16,
   "metadata": {},
   "outputs": [
    {
     "name": "stdout",
     "output_type": "stream",
     "text": [
      "Help on class MyClass2 in module __main__:\n",
      "\n",
      "class MyClass2(builtins.object)\n",
      " |  Methods defined here:\n",
      " |  \n",
      " |  __init__(self)\n",
      " |      Initialize self.  See help(type(self)) for accurate signature.\n",
      " |  \n",
      " |  ----------------------------------------------------------------------\n",
      " |  Data descriptors defined here:\n",
      " |  \n",
      " |  __dict__\n",
      " |      dictionary for instance variables (if defined)\n",
      " |  \n",
      " |  __weakref__\n",
      " |      list of weak references to the object (if defined)\n",
      "\n"
     ]
    }
   ],
   "source": [
    "class MyClass2:\n",
    "    def __init__(self):\n",
    "        self.my_property = 42  \n",
    "\n",
    "help(MyClass2)\n"
   ]
  },
  {
   "cell_type": "markdown",
   "metadata": {},
   "source": [
    "## Property"
   ]
  },
  {
   "cell_type": "code",
   "execution_count": 17,
   "metadata": {},
   "outputs": [
    {
     "name": "stdout",
     "output_type": "stream",
     "text": [
      "Help on class Dog2 in module nano_class:\n",
      "\n",
      "class Dog2(builtins.object)\n",
      " |  Methods defined here:\n",
      " |  \n",
      " |  __init__(...)\n",
      " |      __init__(self, arg: str, /) -> None\n",
      " |  \n",
      " |  bark(...)\n",
      " |      bark(self) -> str\n",
      " |  \n",
      " |  ----------------------------------------------------------------------\n",
      " |  Static methods defined here:\n",
      " |  \n",
      " |  __new__(*args, **kwargs) from nanobind.nb_type_0\n",
      " |      Create and return a new object.  See help(type) for accurate signature.\n",
      " |  \n",
      " |  ----------------------------------------------------------------------\n",
      " |  Data descriptors defined here:\n",
      " |  \n",
      " |  name\n",
      " |      (self) -> str\n",
      "\n"
     ]
    }
   ],
   "source": [
    "help(nano_class.Dog2)"
   ]
  },
  {
   "cell_type": "code",
   "execution_count": 18,
   "metadata": {},
   "outputs": [
    {
     "name": "stdout",
     "output_type": "stream",
     "text": [
      "Help on class Dog1 in module nano_class:\n",
      "\n",
      "class Dog1(builtins.object)\n",
      " |  Methods defined here:\n",
      " |  \n",
      " |  __init__(...)\n",
      " |      __init__(self) -> None\n",
      " |      __init__(self, arg0: str, arg1: int, /) -> None\n",
      " |  \n",
      " |  bark(...)\n",
      " |      bark(self) -> str\n",
      " |  \n",
      " |  ----------------------------------------------------------------------\n",
      " |  Static methods defined here:\n",
      " |  \n",
      " |  __new__(*args, **kwargs) from nanobind.nb_type_0\n",
      " |      Create and return a new object.  See help(type) for accurate signature.\n",
      " |  \n",
      " |  ----------------------------------------------------------------------\n",
      " |  Data descriptors defined here:\n",
      " |  \n",
      " |  age\n",
      " |      (self) -> int\n",
      " |  \n",
      " |  name\n",
      " |      (self) -> str\n",
      "\n"
     ]
    }
   ],
   "source": [
    "help(nano_class.Dog1)"
   ]
  },
  {
   "cell_type": "code",
   "execution_count": 19,
   "metadata": {},
   "outputs": [
    {
     "name": "stdout",
     "output_type": "stream",
     "text": [
      "test1\n",
      "changed\n"
     ]
    }
   ],
   "source": [
    "dog1_inst =  nano_class.Dog1(\"test1\",32)\n",
    "print(dog1_inst.name)\n",
    "dog1_inst.name = \"changed\"\n",
    "print(dog1_inst.name)"
   ]
  },
  {
   "cell_type": "code",
   "execution_count": 20,
   "metadata": {},
   "outputs": [
    {
     "name": "stdout",
     "output_type": "stream",
     "text": [
      "test2\n",
      "changed\n"
     ]
    }
   ],
   "source": [
    "dog1_inst =  nano_class.Dog2(\"test2\")\n",
    "print(dog1_inst.name)\n",
    "dog1_inst.name = \"changed\"\n",
    "print(dog1_inst.name)"
   ]
  },
  {
   "cell_type": "markdown",
   "metadata": {},
   "source": [
    "# Exchanging Information"
   ]
  },
  {
   "cell_type": "markdown",
   "metadata": {},
   "source": [
    "## Type Caster"
   ]
  },
  {
   "cell_type": "code",
   "execution_count": 21,
   "metadata": {},
   "outputs": [],
   "source": [
    "import ext_math"
   ]
  },
  {
   "cell_type": "code",
   "execution_count": 22,
   "metadata": {},
   "outputs": [
    {
     "data": {
      "text/plain": [
       "[0, 0, 0]"
      ]
     },
     "execution_count": 22,
     "metadata": {},
     "output_type": "execute_result"
    }
   ],
   "source": [
    "ext_math.double_it([1,2,3])"
   ]
  },
  {
   "cell_type": "markdown",
   "metadata": {},
   "source": [
    "### 🚨📢🔔⚠️ Type Caster don't mutate"
   ]
  },
  {
   "cell_type": "code",
   "execution_count": 23,
   "metadata": {},
   "outputs": [
    {
     "data": {
      "text/plain": [
       "[1, 2, 3]"
      ]
     },
     "execution_count": 23,
     "metadata": {},
     "output_type": "execute_result"
    }
   ],
   "source": [
    "a = [1,2,3]\n",
    "ext_math.mutate_double_it(a)\n",
    "a"
   ]
  },
  {
   "cell_type": "markdown",
   "metadata": {},
   "source": [
    "## Binding"
   ]
  },
  {
   "cell_type": "code",
   "execution_count": 24,
   "metadata": {},
   "outputs": [
    {
     "data": {
      "text/plain": [
       "ei_binding.IntVector([1, 2])"
      ]
     },
     "execution_count": 24,
     "metadata": {},
     "output_type": "execute_result"
    }
   ],
   "source": [
    "import ei_binding\n",
    "\n",
    "a = [1,2,3]\n",
    "ei_binding.double_it(a)[:2]"
   ]
  },
  {
   "cell_type": "code",
   "execution_count": 25,
   "metadata": {},
   "outputs": [
    {
     "data": {
      "text/plain": [
       "'double_it(arg: ei_binding.IntVector, /) -> ei_binding.IntVector'"
      ]
     },
     "execution_count": 25,
     "metadata": {},
     "output_type": "execute_result"
    }
   ],
   "source": [
    "ei_binding.double_it.__doc__"
   ]
  },
  {
   "cell_type": "markdown",
   "metadata": {},
   "source": [
    "## wrapper"
   ]
  },
  {
   "cell_type": "code",
   "execution_count": 26,
   "metadata": {},
   "outputs": [
    {
     "data": {
      "text/plain": [
       "[2, 4, 6]"
      ]
     },
     "execution_count": 26,
     "metadata": {},
     "output_type": "execute_result"
    }
   ],
   "source": [
    "import ei_wrapper\n",
    "\n",
    "ei_wrapper.double_it([1,2,3])"
   ]
  },
  {
   "cell_type": "markdown",
   "metadata": {},
   "source": [
    "# Object Ownership\n",
    "\n",
    "run python file `test_ownership.py` you get the error of invalid pointer"
   ]
  },
  {
   "cell_type": "markdown",
   "metadata": {},
   "source": [
    "# Nd Array"
   ]
  },
  {
   "cell_type": "code",
   "execution_count": 27,
   "metadata": {},
   "outputs": [
    {
     "name": "stdout",
     "output_type": "stream",
     "text": [
      "Array data pointer : 0x2a69a10\n",
      "Array dimension : 2\n",
      "Array shape [0] : 2\n",
      "Array stride [0] : 3\n",
      "Array shape [1] : 3\n",
      "Array stride [1] : 1\n",
      "Device Id = 0 (cpu=1,gpu = 0)\n",
      "Array dtype : int16=0 , uint32=0 ,float=1\n",
      "Array num of bytes : 24\n"
     ]
    }
   ],
   "source": [
    "import numpy as np\n",
    "\n",
    "import narray\n",
    "\n",
    "arr = np.ones((2,3),dtype=np.float32)\n",
    "narray.inspect(arr)"
   ]
  },
  {
   "cell_type": "code",
   "execution_count": 28,
   "metadata": {},
   "outputs": [],
   "source": [
    "import torch\n",
    "\n",
    "torch_arr = torch.ones((3,4),dtype=torch.int16,device=\"cuda\")"
   ]
  },
  {
   "cell_type": "code",
   "execution_count": 29,
   "metadata": {},
   "outputs": [
    {
     "name": "stdout",
     "output_type": "stream",
     "text": [
      "Array data pointer : 0x7f8fc2c00000\n",
      "Array dimension : 2\n",
      "Array shape [0] : 3\n",
      "Array stride [0] : 4\n",
      "Array shape [1] : 4\n",
      "Array stride [1] : 1\n",
      "Device Id = 0 (cpu=0,gpu = 1)\n",
      "Array dtype : int16=1 , uint32=0 ,float=0\n",
      "Array num of bytes : 24\n"
     ]
    }
   ],
   "source": [
    "narray.inspect(torch_arr)"
   ]
  },
  {
   "cell_type": "code",
   "execution_count": 30,
   "metadata": {},
   "outputs": [
    {
     "name": "stdout",
     "output_type": "stream",
     "text": [
      "cpu_process(): incompatible function arguments. The following argument types are supported:\n",
      "    1. cpu_process(arg: ndarray[dtype=uint8, shape=(*, *), device='cpu'], /) -> None\n",
      "\n",
      "Invoked with types: torch.Tensor\n"
     ]
    }
   ],
   "source": [
    "try:\n",
    "    narray.cpu_process(torch_arr)\n",
    "except TypeError as e:\n",
    "    print(e)"
   ]
  },
  {
   "cell_type": "code",
   "execution_count": 31,
   "metadata": {},
   "outputs": [
    {
     "name": "stdout",
     "output_type": "stream",
     "text": [
      "cpu_process(): incompatible function arguments. The following argument types are supported:\n",
      "    1. cpu_process(arg: ndarray[dtype=uint8, shape=(*, *), device='cpu'], /) -> None\n",
      "\n",
      "Invoked with types: torch.Tensor\n"
     ]
    }
   ],
   "source": [
    "torch_arr = torch.ones((2,2,4096),dtype=torch.uint8)\n",
    "try:\n",
    "    narray.cpu_process(torch_arr)\n",
    "except TypeError as e:\n",
    "    print(e)"
   ]
  },
  {
   "cell_type": "code",
   "execution_count": 32,
   "metadata": {},
   "outputs": [
    {
     "name": "stdout",
     "output_type": "stream",
     "text": [
      "crt type tensor([[5, 1],\n",
      "        [1, 1]], dtype=torch.uint8)\n"
     ]
    }
   ],
   "source": [
    "torch_arr = torch.ones((2,2),dtype=torch.uint8,device=\"cpu\")\n",
    "try:\n",
    "    narray.cpu_process(torch_arr)\n",
    "    print(\"crt type\",torch_arr)\n",
    "except TypeError as e:\n",
    "    print(e)"
   ]
  },
  {
   "cell_type": "code",
   "execution_count": 33,
   "metadata": {},
   "outputs": [
    {
     "name": "stdout",
     "output_type": "stream",
     "text": [
      "crt type tensor([[5, 1],\n",
      "        [1, 1]], device='cuda:0', dtype=torch.uint8)\n"
     ]
    }
   ],
   "source": [
    "torch_arr = torch.ones((2,2),dtype=torch.uint8,device=\"cuda\")\n",
    "try:\n",
    "    narray.gpu_process(torch_arr)\n",
    "    print(\"crt type\",torch_arr)\n",
    "except TypeError as e:\n",
    "    print(e)"
   ]
  },
  {
   "cell_type": "code",
   "execution_count": 34,
   "metadata": {},
   "outputs": [],
   "source": [
    "import ext_nanobind"
   ]
  },
  {
   "cell_type": "code",
   "execution_count": 35,
   "metadata": {},
   "outputs": [
    {
     "name": "stdout",
     "output_type": "stream",
     "text": [
      "Help on package ext_nanobind:\n",
      "\n",
      "NAME\n",
      "    ext_nanobind\n",
      "\n",
      "PACKAGE CONTENTS\n",
      "    narray\n",
      "\n",
      "FILE\n",
      "    (built-in)\n",
      "\n",
      "\n"
     ]
    }
   ],
   "source": [
    "help(ext_nanobind)"
   ]
  },
  {
   "cell_type": "code",
   "execution_count": 36,
   "metadata": {},
   "outputs": [],
   "source": [
    "from ext_nanobind import narray as en"
   ]
  },
  {
   "cell_type": "code",
   "execution_count": 37,
   "metadata": {},
   "outputs": [
    {
     "name": "stdout",
     "output_type": "stream",
     "text": [
      "Help on module ext_nanobind.narray in ext_nanobind:\n",
      "\n",
      "NAME\n",
      "    ext_nanobind.narray\n",
      "\n",
      "DATA\n",
      "    cpu_process = <nanobind.nb_func object>\n",
      "        cpu_process(arg: ndarray[dtype=uint8, shape=(*, *), device='cpu'], /) -> None\n",
      "    \n",
      "    gpu_process = <nanobind.nb_func object>\n",
      "        gpu_process(arg: ndarray[dtype=uint8, shape=(*, *), device='cuda'], /) -> None\n",
      "    \n",
      "    inspect = <nanobind.nb_func object>\n",
      "        inspect(arg: ndarray[], /) -> None\n",
      "    \n",
      "    ret_numpy = <nanobind.nb_func object>\n",
      "        ret_numpy() -> torch.Tensor[dtype=float32, writable=False, shape=(2, *)]\n",
      "\n",
      "FILE\n",
      "    /root/miniconda3/envs/extend/lib/python3.10/site-packages/ext_nanobind/narray.cpython-310-x86_64-linux-gnu.so\n",
      "\n",
      "\n"
     ]
    }
   ],
   "source": [
    "help(en)"
   ]
  },
  {
   "cell_type": "code",
   "execution_count": 38,
   "metadata": {},
   "outputs": [
    {
     "name": "stdout",
     "output_type": "stream",
     "text": [
      "crt type tensor([[5, 1],\n",
      "        [1, 1]], device='cuda:0', dtype=torch.uint8)\n"
     ]
    }
   ],
   "source": [
    "torch_arr = torch.ones((2,2),dtype=torch.uint8,device=\"cuda\")\n",
    "try:\n",
    "    en.gpu_process(torch_arr)\n",
    "    print(\"crt type\",torch_arr)\n",
    "except TypeError as e:\n",
    "    print(e)"
   ]
  },
  {
   "cell_type": "code",
   "execution_count": null,
   "metadata": {},
   "outputs": [],
   "source": []
  }
 ],
 "metadata": {
  "kernelspec": {
   "display_name": "extend",
   "language": "python",
   "name": "python3"
  },
  "language_info": {
   "codemirror_mode": {
    "name": "ipython",
    "version": 3
   },
   "file_extension": ".py",
   "mimetype": "text/x-python",
   "name": "python",
   "nbconvert_exporter": "python",
   "pygments_lexer": "ipython3",
   "version": "3.10.13"
  }
 },
 "nbformat": 4,
 "nbformat_minor": 2
}
