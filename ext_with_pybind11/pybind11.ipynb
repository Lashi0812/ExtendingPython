{
 "cells": [
  {
   "cell_type": "code",
   "execution_count": 1,
   "metadata": {},
   "outputs": [],
   "source": [
    "import ext_module"
   ]
  },
  {
   "cell_type": "code",
   "execution_count": 2,
   "metadata": {},
   "outputs": [
    {
     "name": "stdout",
     "output_type": "stream",
     "text": [
      "Help on built-in function add in module ext_module:\n",
      "\n",
      "add(...) method of builtins.PyCapsule instance\n",
      "    add(arg0: int, arg1: int) -> int\n",
      "    \n",
      "    Add Two integer\n",
      "\n"
     ]
    }
   ],
   "source": [
    "help(ext_module.add)"
   ]
  }
 ],
 "metadata": {
  "kernelspec": {
   "display_name": "extend",
   "language": "python",
   "name": "python3"
  },
  "language_info": {
   "codemirror_mode": {
    "name": "ipython",
    "version": 3
   },
   "file_extension": ".py",
   "mimetype": "text/x-python",
   "name": "python",
   "nbconvert_exporter": "python",
   "pygments_lexer": "ipython3",
   "version": "3.10.13"
  }
 },
 "nbformat": 4,
 "nbformat_minor": 2
}
